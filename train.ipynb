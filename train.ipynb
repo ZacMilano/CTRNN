{
 "cells": [
  {
   "cell_type": "markdown",
   "id": "soviet-spelling",
   "metadata": {},
   "source": [
    "# CTRNN - An Interesting Acronym\n",
    "\n",
    "We will be searching for a CTRNN that produces cyclic behavior in neuron\n",
    "activations by using an evolutionary algorithm."
   ]
  },
  {
   "cell_type": "markdown",
   "id": "automotive-vanilla",
   "metadata": {},
   "source": [
    "### Imports"
   ]
  },
  {
   "cell_type": "code",
   "execution_count": 7,
   "id": "frozen-ecuador",
   "metadata": {},
   "outputs": [],
   "source": [
    "import matplotlib.pyplot as plt\n",
    "import numpy as np\n",
    "from ctrnn import CTRNN"
   ]
  },
  {
   "cell_type": "code",
   "execution_count": null,
   "id": "varied-rebate",
   "metadata": {},
   "outputs": [],
   "source": []
  }
 ],
 "metadata": {
  "kernelspec": {
   "display_name": "Python 3",
   "language": "python",
   "name": "python3"
  },
  "language_info": {
   "codemirror_mode": {
    "name": "ipython",
    "version": 3
   },
   "file_extension": ".py",
   "mimetype": "text/x-python",
   "name": "python",
   "nbconvert_exporter": "python",
   "pygments_lexer": "ipython3",
   "version": "3.9.1"
  }
 },
 "nbformat": 4,
 "nbformat_minor": 5
}
