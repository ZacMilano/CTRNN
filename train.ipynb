{
 "cells": [
  {
   "cell_type": "markdown",
   "id": "caroline-device",
   "metadata": {},
   "source": [
    "# CTRNN - An Interesting Acronym\n",
    "\n",
    "We will be searching for a CTRNN that produces cyclic behavior in neuron\n",
    "activations by using an evolutionary algorithm."
   ]
  },
  {
   "cell_type": "markdown",
   "id": "another-lucas",
   "metadata": {},
   "source": [
    "### Imports"
   ]
  },
  {
   "cell_type": "code",
   "execution_count": 1,
   "id": "assigned-positive",
   "metadata": {},
   "outputs": [],
   "source": [
    "import matplotlib.pyplot as plt\n",
    "import numpy as np\n",
    "from ctrnn import CTRNN"
   ]
  },
  {
   "cell_type": "markdown",
   "id": "selected-estonia",
   "metadata": {},
   "source": [
    "### Evolutionary search algorithm to find cyclic activations"
   ]
  },
  {
   "cell_type": "code",
   "execution_count": 2,
   "id": "suspended-treatment",
   "metadata": {},
   "outputs": [],
   "source": [
    "class EvolutionarySearch():\n",
    "    def __init__(self, dt, fitness_steps, n_neurons, popsize, recomb_prob,\n",
    "                 mutat_std):\n",
    "        self.dt = dt\n",
    "        self.fitness_steps = fitness_steps\n",
    "        self.n_neurons = n_neurons\n",
    "        self.popsize = popsize\n",
    "        self.recomb_prob = recomb_prob\n",
    "        self.mutate_std = mutate_std \n",
    "        self.pop = np.array(\n",
    "            [CTRNN(self.n_neurons, dt=self.dt) for _ in range(self.popsize)]\n",
    "        )\n",
    "        \n",
    "    def attempt_cycles(self, c):\n",
    "        \"\"\"\n",
    "        c : CTRNN\n",
    "        \n",
    "        The activations of c over self.fitness_steps points in time\n",
    "        \"\"\"\n",
    "        # Activations of the CTRNN neurons at each point in time\n",
    "        activations = np.zeros((self.n_neurons, self.fitness_steps))\n",
    "        for t in range(self.fitness_steps):\n",
    "            activations[:,t] = c.activations\n",
    "            c.step()\n",
    "        return activations\n",
    "        \n",
    "    def fitness(self, c):\n",
    "        \"\"\"\n",
    "        c : CTRNN\n",
    "        \n",
    "        The fitness of a CTRNN based on time_steps many steps to attempt to\n",
    "        produce a cycle.\n",
    "        \"\"\"\n",
    "        activations = self.attempt_cycles(c)\n",
    "            \n",
    "        # Differences at each point in time.\n",
    "        # differentials[i,j] = | acitvations[i,j+1] - activations[i,j] |\n",
    "        differentials = np.abs(activations[:,1:] - activations[:,:-1])\n",
    "        # Want to normalize by number of neurons and length of time interval\n",
    "        return np.sum(differentials) / (self.n_neurons)\n",
    "\n",
    "    def best_ctrnn(self):\n",
    "        \"\"\"\n",
    "        The fittest CTRNN in the population.\n",
    "        \"\"\"\n",
    "        best = None\n",
    "        best_fitness = float(\"-inf\")\n",
    "        for c in self.pop:\n",
    "            if self.fitness(c) > best_fitness:\n",
    "                best = c\n",
    "        return best\n",
    "    \n",
    "    def best_fitness(self):\n",
    "        \"\"\"\n",
    "        The fitness value for the fittest CTRNN in the population.\n",
    "        Modeled after code used in class and for lab assignments.\n",
    "        \"\"\"\n",
    "        return np.max([self.fitness(c) for c in self.pop])\n",
    "\n",
    "    def run_tournament(self):\n",
    "        \"\"\"\n",
    "        Pick two individuals and make them compete for survival of their genes.\n",
    "        Modeled after code used in class and for lab assignments.\n",
    "        \"\"\"\n",
    "        # 1. Pick two distinct members of population\n",
    "        a, b = np.random.choice(self.pop, 2, replace=False)\n",
    "        \n",
    "        # 2. Compare fitness\n",
    "        if self.fitness(a) > self.fitness(b):\n",
    "            winner = a\n",
    "            loser = b\n",
    "        else:\n",
    "            winner = b\n",
    "            loser = a\n",
    "        \n",
    "        # 3. Transfect loser with winner\n",
    "        for i in range(loser.N):\n",
    "            for j in range(loser.N):\n",
    "                # Transfect weights\n",
    "                if np.random.random() < self.recomb_prob:\n",
    "                    loser.weights[i,j] = winner.weights[i,j]\n",
    "            # Transfect biases\n",
    "            if np.random.random() < self.recomb_prob:\n",
    "                loser.biases[i] = winner.biases[i]\n",
    "            # Transfect time_constants\n",
    "            if np.random.random() < self.recomb_prob:\n",
    "                loser.time_constants[i] = winner.time_constants[i]\n",
    "        \n",
    "        # 4. Mutate loser, clip time_constants to within desired range\n",
    "        loser.weights += np.random.normal(0.0, self.mutate_std,\n",
    "                                          size=(loser.N, loser.N))\n",
    "        loser.biases += np.random.normal(0.0, self.mutate_std, size=loser.N)\n",
    "        loser.time_constants += np.random.normal(0.0, self.mutate_std,\n",
    "                                                 size=loser.N)\n",
    "        loser.time_constants = np.clip(loser.time_constants,\n",
    "                                       10.0 * self.dt, 100.0 * self.dt)\n",
    "    \n",
    "    def search_for_cycles(self, generations=100):\n",
    "        \"\"\"\n",
    "        Search for cycles using an evolutionary search algorithm.\n",
    "        Modeled after code used in class and for lab assignments.\n",
    "        \"\"\"\n",
    "        best_fit_hist = np.zeros(generations)\n",
    "        \n",
    "        for i in range(generations):\n",
    "            print(i, end=\" \")\n",
    "            for j in range(self.popsize):\n",
    "                self.run_tournament()\n",
    "            best_fit_hist[i] = self.best_fitness()\n",
    "        \n",
    "        return self.best_ctrnn()"
   ]
  },
  {
   "cell_type": "code",
   "execution_count": 4,
   "id": "black-tolerance",
   "metadata": {},
   "outputs": [
    {
     "name": "stdout",
     "output_type": "stream",
     "text": [
      "0 1 2 3 4 5 6 7 8 9 10 11 12 13 14 15 16 17 18 19 20 21 22 23 24 25 26 27 28 29 30 31 32 33 34 35 36 37 38 39 40 41 42 43 44 45 46 47 48 49 50 51 52 53 54 55 56 57 58 59 60 61 62 63 64 65 66 67 68 69 70 71 72 73 74 75 76 77 78 79 80 81 82 83 84 85 86 87 88 89 90 91 92 93 94 95 96 97 98 99 "
     ]
    },
    {
     "data": {
      "image/png": "[encoded data removed]",
      "text/plain": [
       "<Figure size 432x288 with 1 Axes>"
      ]
     },
     "metadata": {
      "needs_background": "light"
     },
     "output_type": "display_data"
    }
   ],
   "source": [
    "dt = 0.1\n",
    "fitness_steps = 100\n",
    "n_neurons = 3\n",
    "popsize = 10\n",
    "recomb_prob = 0.1\n",
    "mutate_std = 0.1\n",
    "\n",
    "generations = 100\n",
    "\n",
    "e = EvolutionarySearch(dt, fitness_steps, n_neurons, popsize, recomb_prob,\n",
    "                       mutate_std)\n",
    "c = e.search_for_cycles(generations=generations)\n",
    "activations = e.attempt_cycles(c)\n",
    "\n",
    "for i in range(n_neurons):\n",
    "    plt.plot(activations[i,:])\n",
    "plt.show()"
   ]
  }
 ],
 "metadata": {
  "kernelspec": {
   "display_name": "Python 3",
   "language": "python",
   "name": "python3"
  },
  "language_info": {
   "codemirror_mode": {
    "name": "ipython",
    "version": 3
   },
   "file_extension": ".py",
   "mimetype": "text/x-python",
   "name": "python",
   "nbconvert_exporter": "python",
   "pygments_lexer": "ipython3",
   "version": "3.9.1"
  }
 },
 "nbformat": 4,
 "nbformat_minor": 5
}
