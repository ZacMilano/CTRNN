{
 "cells": [
  {
   "cell_type": "markdown",
   "id": "capable-explorer",
   "metadata": {},
   "source": [
    "# CTRNN - An Interesting Acronym\n",
    "\n",
    "We will be searching for a CTRNN that produces cyclic behavior in neuron\n",
    "activations by using an evolutionary algorithm."
   ]
  },
  {
   "cell_type": "markdown",
   "id": "progressive-trademark",
   "metadata": {},
   "source": [
    "### Imports"
   ]
  },
  {
   "cell_type": "code",
   "execution_count": 1,
   "id": "respective-offer",
   "metadata": {},
   "outputs": [],
   "source": [
    "import matplotlib.pyplot as plt\n",
    "import numpy as np\n",
    "from ctrnn import CTRNN"
   ]
  },
  {
   "cell_type": "code",
   "execution_count": 2,
   "id": "aquatic-italic",
   "metadata": {},
   "outputs": [],
   "source": [
    "def fitness(activations):\n",
    "    \"\"\"\n",
    "    activations : np.ndarray<N, T>\n",
    "      N is the number of neurons, T is the number of timesteps.\n",
    "    \"\"\"\n",
    "    # Differences at each point in time.\n",
    "    # differentials[i,j] = | acitvations[i,j+1] - activations[i,j] |\n",
    "    differentials = np.abs(activations[:,1:] - activations[:,:-1])\n",
    "    # Want to normalize by number of neurons and length of time interval\n",
    "    return np.sum(differentials) / (activations.shape[0] * activations.shape[1])"
   ]
  },
  {
   "cell_type": "code",
   "execution_count": 6,
   "id": "velvet-cuisine",
   "metadata": {},
   "outputs": [
    {
     "data": {
      "image/png": "[encoded data removed]",
      "text/plain": [
       "<Figure size 432x288 with 1 Axes>"
      ]
     },
     "metadata": {
      "needs_background": "light"
     },
     "output_type": "display_data"
    },
    {
     "data": {
      "text/plain": [
       "4.2429524228979836e-05"
      ]
     },
     "execution_count": 6,
     "metadata": {},
     "output_type": "execute_result"
    }
   ],
   "source": [
    "N = 3\n",
    "T = 10000\n",
    "dt = 0.001\n",
    "x = CTRNN(N, dt=dt)\n",
    "\n",
    "activations = np.zeros((N, T))\n",
    "for i in range(T):\n",
    "    activations[:,i] = x.activations\n",
    "    x.step()\n",
    "for j in range(N):\n",
    "    plt.plot(activations[j,:])\n",
    "plt.show()\n",
    "fitness(activations)"
   ]
  }
 ],
 "metadata": {
  "kernelspec": {
   "display_name": "Python 3",
   "language": "python",
   "name": "python3"
  },
  "language_info": {
   "codemirror_mode": {
    "name": "ipython",
    "version": 3
   },
   "file_extension": ".py",
   "mimetype": "text/x-python",
   "name": "python",
   "nbconvert_exporter": "python",
   "pygments_lexer": "ipython3",
   "version": "3.9.1"
  }
 },
 "nbformat": 4,
 "nbformat_minor": 5
}
