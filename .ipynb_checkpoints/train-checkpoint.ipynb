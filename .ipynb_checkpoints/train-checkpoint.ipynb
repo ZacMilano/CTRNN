{
 "cells": [
  {
   "cell_type": "markdown",
   "id": "domestic-store",
   "metadata": {},
   "source": [
    "# CTRNN - An Interesting Acronym\n",
    "\n",
    "We will be searching for a CTRNN that produces cyclic behavior in neuron\n",
    "activations by using an evolutionary algorithm."
   ]
  },
  {
   "cell_type": "markdown",
   "id": "speaking-nickname",
   "metadata": {},
   "source": [
    "### Imports"
   ]
  },
  {
   "cell_type": "code",
   "execution_count": 1,
   "id": "presidential-acoustic",
   "metadata": {},
   "outputs": [],
   "source": [
    "import matplotlib.pyplot as plt\n",
    "import numpy as np\n",
    "from ctrnn import CTRNN"
   ]
  },
  {
   "cell_type": "markdown",
   "id": "eleven-corruption",
   "metadata": {},
   "source": [
    "### Evolutionary search algorithm to find cyclic activations"
   ]
  },
  {
   "cell_type": "code",
   "execution_count": 8,
   "id": "answering-norfolk",
   "metadata": {},
   "outputs": [],
   "source": [
    "class EvolutionaryCTRNN():\n",
    "    def __init__(self, dt, fitness_steps, n_neurons, popsize, recomb_prob,\n",
    "                 mutat_std):\n",
    "        self.dt = dt\n",
    "        self.fitness_steps = fitness_steps\n",
    "        self.n_neurons = n_neurons\n",
    "        self.popsize = popsize\n",
    "        self.recomb_prob = recomb_prob\n",
    "        self.mutate_std = mutate_std \n",
    "        self.pop = np.array(\n",
    "            [CTRNN(self.n_neurons, dt=self.dt) for _ in range(self.popsize)]\n",
    "        )\n",
    "        \n",
    "    def attempt_cycles(self, c):\n",
    "        \"\"\"\n",
    "        c : CTRNN\n",
    "        \n",
    "        The activations of c over self.fitness_steps points in time\n",
    "        \"\"\"\n",
    "        # Activations of the CTRNN neurons at each point in time\n",
    "        activations = np.zeros((self.n_neurons, self.fitness_steps))\n",
    "        for t in range(self.fitness_steps):\n",
    "            activations[:,t] = c.activations\n",
    "            c.step()\n",
    "        return activations\n",
    "        \n",
    "    def fitness(self, c):\n",
    "        \"\"\"\n",
    "        c : CTRNN\n",
    "        \n",
    "        The fitness of a CTRNN based on time_steps many steps to attempt to\n",
    "        produce a cycle.\n",
    "        \"\"\"\n",
    "        activations = self.attempt_cycles(c)\n",
    "            \n",
    "        # Differences at each point in time.\n",
    "        # differentials[i,j] = | acitvations[i,j+1] - activations[i,j] |\n",
    "        differentials = np.abs(activations[:,1:] - activations[:,:-1])\n",
    "        # Want to normalize by number of neurons and length of time interval\n",
    "        return np.sum(differentials) / (self.n_neurons)\n",
    "\n",
    "    def best_ctrnn(self):\n",
    "        \"\"\"\n",
    "        The fittest CTRNN in the population.\n",
    "        \"\"\"\n",
    "        best = None\n",
    "        best_fitness = float(\"-inf\")\n",
    "        for c in self.pop:\n",
    "            if self.fitness(c) > best_fitness:\n",
    "                best = c\n",
    "        return best\n",
    "    \n",
    "    def best_fitness(self):\n",
    "        \"\"\"\n",
    "        The fitness value for the fittest CTRNN in the population.\n",
    "        Modeled after code used in class and for lab assignments.\n",
    "        \"\"\"\n",
    "        return np.max([self.fitness(c) for c in self.pop])\n",
    "\n",
    "    def run_tournament(self):\n",
    "        \"\"\"\n",
    "        Pick two individuals and make them compete for survival of their genes.\n",
    "        Modeled after code used in class and for lab assignments.\n",
    "        \"\"\"\n",
    "        # 1. Pick two distinct members of population\n",
    "        a, b = np.random.choice(self.pop, 2, replace=False)\n",
    "        \n",
    "        # 2. Compare fitness\n",
    "        if self.fitness(a) > self.fitness(b):\n",
    "            winner = a\n",
    "            loser = b\n",
    "        else:\n",
    "            winner = b\n",
    "            loser = a\n",
    "        \n",
    "        # 3. Transfect loser with winner\n",
    "        for i in range(loser.N):\n",
    "            for j in range(loser.N):\n",
    "                # Transfect weights\n",
    "                if np.random.random() < self.recomb_prob:\n",
    "                    loser.weights[i,j] = winner.weights[i,j]\n",
    "            # Transfect biases\n",
    "            if np.random.random() < self.recomb_prob:\n",
    "                loser.biases[i] = winner.biases[i]\n",
    "            # Transfect time_constants\n",
    "            if np.random.random() < self.recomb_prob:\n",
    "                loser.time_constants[i] = winner.time_constants[i]\n",
    "        \n",
    "        # 4. Mutate loser, clip time_constants to within desired range\n",
    "        loser.weights += np.random.normal(0.0, self.mutate_std,\n",
    "                                          size=(loser.N, loser.N))\n",
    "        loser.biases += np.random.normal(0.0, self.mutate_std, size=loser.N)\n",
    "        loser.time_constants += np.random.normal(0.0, self.mutate_std,\n",
    "                                                 size=loser.N)\n",
    "        # loser.weights = np.clip(loser.weights, 0.0, float(\"inf\"))\n",
    "        # loser.biases = np.clip(loser.biases, 0.0, float(\"inf\"))\n",
    "        loser.time_constants = np.clip(loser.time_constants,\n",
    "                                       10.0 * self.dt, 100.0 * self.dt)\n",
    "    \n",
    "    def search_for_cycles(self, generations=100, update_every=float(\"inf\")):\n",
    "        \"\"\"\n",
    "        generations : int\n",
    "        update_every : int\n",
    "          float(\"inf\") as default value means that it will never print anything.\n",
    "         \n",
    "        Search for cycles using an evolutionary search algorithm.\n",
    "        Modeled after code used in class and for lab assignments.\n",
    "        \"\"\"\n",
    "        best_fit_hist = np.zeros(generations)\n",
    "        \n",
    "        for i in range(generations):\n",
    "            if i % update_every == 0: print(i, end=\" \")\n",
    "            for j in range(self.popsize):\n",
    "                self.run_tournament()\n",
    "            best_fit_hist[i] = self.best_fitness()\n",
    "        \n",
    "        return self.best_ctrnn()"
   ]
  },
  {
   "cell_type": "code",
   "execution_count": 11,
   "id": "south-discretion",
   "metadata": {},
   "outputs": [
    {
     "name": "stdout",
     "output_type": "stream",
     "text": [
      "0 100 200 300 400 500 600 700 800 900 "
     ]
    },
    {
     "data": {
      "image/png": "[encoded data removed]",
      "text/plain": [
       "<Figure size 432x288 with 1 Axes>"
      ]
     },
     "metadata": {
      "needs_background": "light"
     },
     "output_type": "display_data"
    },
    {
     "name": "stdout",
     "output_type": "stream",
     "text": [
      "[7.55636677 7.55637185 7.55637686 7.55638178 7.55638662 7.55639138\n",
      " 7.55639607 7.55640068 7.55640521 7.55640967 7.55641405 7.55641836\n",
      " 7.5564226  7.55642678 7.55643088 7.55643492 7.55643889 7.55644279\n",
      " 7.55644663 7.55645041 7.55645412 7.55645778 7.55646137 7.55646491\n",
      " 7.55646839 7.55647181 7.55647517 7.55647848 7.55648174 7.55648494\n",
      " 7.55648809 7.55649119 7.55649424 7.55649723 7.55650018 7.55650308\n",
      " 7.55650593 7.55650874 7.5565115  7.55651421 7.55651688 7.55651951\n",
      " 7.55652209 7.55652463 7.55652713 7.55652958 7.556532   7.55653438\n",
      " 7.55653672 7.55653902 7.55654128 7.55654351 7.5565457  7.55654785\n",
      " 7.55654997 7.55655205 7.5565541  7.55655611 7.55655809 7.55656004\n",
      " 7.55656196 7.55656385 7.5565657  7.55656753 7.55656932 7.55657109\n",
      " 7.55657282 7.55657453 7.55657621 7.55657786 7.55657949 7.55658109\n",
      " 7.55658266 7.55658421 7.55658573 7.55658723 7.5565887  7.55659014\n",
      " 7.55659157 7.55659297 7.55659435 7.5565957  7.55659703 7.55659835\n",
      " 7.55659963 7.5566009  7.55660215 7.55660338 7.55660458 7.55660577\n",
      " 7.55660694 7.55660809 7.55660922 7.55661033 7.55661142 7.5566125\n",
      " 7.55661355 7.55661459 7.55661562 7.55661662]\n"
     ]
    }
   ],
   "source": [
    "dt = 0.1\n",
    "fitness_steps = 100\n",
    "n_neurons = 5\n",
    "popsize = 10\n",
    "recomb_prob = 0.5\n",
    "mutate_std = 0.5\n",
    "\n",
    "generations = 1000\n",
    "\n",
    "e = EvolutionaryCTRNN(dt, fitness_steps, n_neurons, popsize, recomb_prob,\n",
    "                       mutate_std)\n",
    "c = e.search_for_cycles(generations=generations, update_every=100)\n",
    "activations = e.attempt_cycles(c)\n",
    "\n",
    "for i in range(n_neurons):\n",
    "    plt.plot(activations[i,:])\n",
    "\n",
    "plt.xlabel(\"Time\")\n",
    "plt.ylabel(\"Activation value\")\n",
    "plt.title(\"Neuron activations over time of fittest model\")\n",
    "plt.show()\n",
    "print(activations[0,:])"
   ]
  }
 ],
 "metadata": {
  "kernelspec": {
   "display_name": "Python 3",
   "language": "python",
   "name": "python3"
  },
  "language_info": {
   "codemirror_mode": {
    "name": "ipython",
    "version": 3
   },
   "file_extension": ".py",
   "mimetype": "text/x-python",
   "name": "python",
   "nbconvert_exporter": "python",
   "pygments_lexer": "ipython3",
   "version": "3.9.1"
  }
 },
 "nbformat": 4,
 "nbformat_minor": 5
}
